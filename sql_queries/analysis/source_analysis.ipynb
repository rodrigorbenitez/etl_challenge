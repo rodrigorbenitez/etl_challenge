{
 "cells": [
  {
   "cell_type": "markdown",
   "metadata": {},
   "source": [
    "# Source Analysis\n",
    "### In this Notebook I'm going to use Pandas to understand and perform some transformations.\n",
    "\n"
   ]
  },
  {
   "cell_type": "markdown",
   "metadata": {},
   "source": [
    "# Imports"
   ]
  },
  {
   "cell_type": "code",
   "execution_count": null,
   "metadata": {},
   "outputs": [],
   "source": [
    "import pandas as pd\n",
    "import json\n",
    "from numpy import nan as Nan\n",
    "import hashlib\n",
    "import matplotlib.pyplot as plt"
   ]
  },
  {
   "cell_type": "markdown",
   "metadata": {},
   "source": [
    "# Read url responses"
   ]
  },
  {
   "cell_type": "code",
   "execution_count": null,
   "metadata": {},
   "outputs": [],
   "source": [
    "url_users='https://619ca0ea68ebaa001753c9b0.mockapi.io/evaluation/dataengineer/jr/v1/users'\n",
    "df_users = pd.read_json(url_users)\n",
    "df_users"
   ]
  },
  {
   "cell_type": "markdown",
   "metadata": {},
   "source": [
    "# I decided to create a separated table from \"subscription\" column, that has arrays with objects inside. For the \"profile\" column I decided to explode the object inside and add it to the main \"users\" table."
   ]
  },
  {
   "cell_type": "code",
   "execution_count": null,
   "metadata": {},
   "outputs": [],
   "source": [
    "df_users.info()"
   ]
  },
  {
   "cell_type": "code",
   "execution_count": null,
   "metadata": {},
   "outputs": [],
   "source": [
    "url_messages='https://619ca0ea68ebaa001753c9b0.mockapi.io/evaluation/dataengineer/jr/v1/messages'    \n",
    "df_messages=pd.read_json(url_messages)\n",
    "df_messages"
   ]
  },
  {
   "cell_type": "code",
   "execution_count": null,
   "metadata": {},
   "outputs": [],
   "source": [
    "df_messages.info()"
   ]
  },
  {
   "cell_type": "markdown",
   "metadata": {},
   "source": [
    "# Functions to read the file from url and save it into a dataframe "
   ]
  },
  {
   "cell_type": "code",
   "execution_count": null,
   "metadata": {},
   "outputs": [],
   "source": [
    "def users():\n",
    "    url_users='https://619ca0ea68ebaa001753c9b0.mockapi.io/evaluation/dataengineer/jr/v1/users'\n",
    "    df_users = pd.read_json(url_users)\n",
    "    profile_dict=df_users['profile']\n",
    "    df_profile = pd.DataFrame([x for x in profile_dict])\n",
    "    df_users=pd.concat([df_users, df_profile], axis=1)\n",
    "    df_users=df_users[['id','createdAt','updatedAt','firstName','lastName','address','city','country','zipCode','email','birthDate','gender','isSmoking','profession','income']]\n",
    "    df_users=df_users.rename(columns={\"id\": \"user_id\"})\n",
    "    \n",
    "    # Apply hashing function to the column in order to hide PII\n",
    "    \n",
    "    df_users[['firstName','lastName','address','birthDate']] = df_users[['firstName','lastName','address','birthDate']].astype(str)\n",
    "    columns=['firstName','lastName','address','birthDate']\n",
    "    for column in columns:\n",
    "        df_users[column] = df_users[column].apply(lambda x: hashlib.sha256(x.encode()).hexdigest())\n",
    "    \n",
    "    #extract domain from emails\n",
    "    df_users['email']=df_users['email'].str.extract('((?<=@).*)') \n",
    "    \n",
    "    return df_users"
   ]
  },
  {
   "cell_type": "code",
   "execution_count": null,
   "metadata": {},
   "outputs": [],
   "source": [
    "users()"
   ]
  },
  {
   "cell_type": "code",
   "execution_count": null,
   "metadata": {},
   "outputs": [],
   "source": [
    "plt.figure(figsize=(16,8))\n",
    "# plot chart\n",
    "df=users()\n",
    "df['income']=df['income'].astype(float)\n",
    "df.groupby(['country']).sum().plot(kind='pie', y='income',title='Income by country')\n"
   ]
  },
  {
   "cell_type": "code",
   "execution_count": null,
   "metadata": {},
   "outputs": [],
   "source": [
    "def messages():\n",
    "    url_messages='https://619ca0ea68ebaa001753c9b0.mockapi.io/evaluation/dataengineer/jr/v1/messages'    \n",
    "    df_messages=pd.read_json(url_messages)\n",
    "    \n",
    "    #hash messages\n",
    "    df_messages['message']=df_messages['message'].astype(str)\n",
    "    df_messages['message'] = df_messages['message'].apply(lambda x: hashlib.sha256(x.encode()).hexdigest())\n",
    "    \n",
    "    return df_messages"
   ]
  },
  {
   "cell_type": "code",
   "execution_count": null,
   "metadata": {},
   "outputs": [],
   "source": [
    "messages()"
   ]
  },
  {
   "cell_type": "code",
   "execution_count": null,
   "metadata": {},
   "outputs": [],
   "source": [
    "def subscriptions():\n",
    "    url_users='https://619ca0ea68ebaa001753c9b0.mockapi.io/evaluation/dataengineer/jr/v1/users'    \n",
    "    df_users = pd.read_json(url_users)\n",
    "    subscription_df=df_users[['id','subscription']]\n",
    "    subscription_df = subscription_df.explode('subscription')\n",
    "    df = pd.DataFrame(columns = ['createdAt', 'startDate','endDate','status','amount','id'])\n",
    "    for index, row in subscription_df.iterrows():\n",
    "        if row['subscription'] is not Nan:\n",
    "            dicts=row['subscription']\n",
    "            dicts['id']=row['id']\n",
    "            df = df.append(dicts, ignore_index=True, sort=False)\n",
    "        else:\n",
    "            df2 = {'createdAt': Nan, 'startDate': Nan, 'endDate':Nan, 'status': Nan, 'amount': Nan, 'id': row['id'], }\n",
    "            df = df.append(df2, ignore_index = True)\n",
    "    df=df.rename(columns={\"id\": \"user_id\"})\n",
    "    return df"
   ]
  },
  {
   "cell_type": "code",
   "execution_count": null,
   "metadata": {},
   "outputs": [],
   "source": [
    "subscriptions()"
   ]
  }
 ],
 "metadata": {
  "language_info": {
   "name": "plaintext"
  },
  "orig_nbformat": 4
 },
 "nbformat": 4,
 "nbformat_minor": 2
}
